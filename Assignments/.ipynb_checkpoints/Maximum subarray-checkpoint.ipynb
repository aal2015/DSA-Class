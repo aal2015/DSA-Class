{
 "cells": [
  {
   "cell_type": "markdown",
   "metadata": {},
   "source": [
    "## Algorithm for Maximum Subarray Problem"
   ]
  },
  {
   "cell_type": "code",
   "execution_count": 1,
   "metadata": {},
   "outputs": [],
   "source": [
    "import sys"
   ]
  },
  {
   "cell_type": "code",
   "execution_count": 2,
   "metadata": {},
   "outputs": [],
   "source": [
    "class Maximum_Subarray:\n",
    "    def subArray(self, nums, low, high):\n",
    "        # Checking for base case\n",
    "        if (low == high): \n",
    "            return [nums[low],low,high]\n",
    "\n",
    "        # Finding middle index of subarray\n",
    "        mid = int((low + high)/2)\n",
    "\n",
    "        # Dividing subarray into further left and right subarrys \n",
    "        left, left_low, left_high = self.subArray(nums, low, mid)\n",
    "        right, right_low, right_high = self.subArray(nums, mid+1, high)\n",
    "\n",
    "        # combining left and right subarrays, and looking for maximum cross subarray\n",
    "        i = mid\n",
    "        Sum = 0\n",
    "        left_sum = -sys.maxsize\n",
    "        left_sum_low = i\n",
    "        while i >= low:\n",
    "            Sum += nums[i]\n",
    "            if Sum > left_sum:\n",
    "                left_sum = Sum\n",
    "                left_sum_low = i\n",
    "            i -= 1\n",
    "\n",
    "        i = mid + 1\n",
    "        Sum = 0\n",
    "        right_sum = -sys.maxsize\n",
    "        left_sum_high = i\n",
    "        while i <= high:\n",
    "            Sum += nums[i]\n",
    "            if Sum > right_sum:\n",
    "                right_sum = Sum\n",
    "                left_sum_high = i\n",
    "            i += 1\n",
    "\n",
    "        # maximum crossing subarray\n",
    "        cross = left_sum + right_sum\n",
    "\n",
    "        # returning maximum subarray\n",
    "        max_value = max(left,right,cross)\n",
    "        if (cross == max_value):\n",
    "            max_subarray = [max_value, left_sum_low, left_sum_high]\n",
    "        elif left == max_value:\n",
    "            max_subarray = [max_value, left_low, left_high]\n",
    "        elif right == max_value:\n",
    "            max_subarray = [max_value,  right_low, right_high]\n",
    "        return max_subarray\n",
    "\n",
    "    def maxSubArray(self, nums):\n",
    "        max_subarray = self.subArray(nums, 0, len(nums) - 1)\n",
    "        print(\"Maximum Subarray Sum: \" + str(max_subarray[0]))\n",
    "        print(\"Indices: (\" + str(max_subarray[1]) + \",\" + str(max_subarray[2]) + \")\")\n",
    "        return self.subArray(nums, 0, len(nums) - 1)"
   ]
  },
  {
   "cell_type": "code",
   "execution_count": 3,
   "metadata": {},
   "outputs": [],
   "source": [
    "test = Maximum_Subarray()"
   ]
  },
  {
   "cell_type": "code",
   "execution_count": 4,
   "metadata": {},
   "outputs": [
    {
     "name": "stdout",
     "output_type": "stream",
     "text": [
      "Maximum Subarray Sum: 1\n",
      "Indices: (0,0)\n"
     ]
    },
    {
     "data": {
      "text/plain": [
       "[1, 0, 0]"
      ]
     },
     "execution_count": 4,
     "metadata": {},
     "output_type": "execute_result"
    }
   ],
   "source": [
    "test.maxSubArray([1])"
   ]
  },
  {
   "cell_type": "code",
   "execution_count": 5,
   "metadata": {},
   "outputs": [
    {
     "name": "stdout",
     "output_type": "stream",
     "text": [
      "Maximum Subarray Sum: 6\n",
      "Indices: (3,6)\n"
     ]
    },
    {
     "data": {
      "text/plain": [
       "[6, 3, 6]"
      ]
     },
     "execution_count": 5,
     "metadata": {},
     "output_type": "execute_result"
    }
   ],
   "source": [
    "test.maxSubArray([-2,1,-3,4,-1,2,1,-5,4])"
   ]
  },
  {
   "cell_type": "code",
   "execution_count": 6,
   "metadata": {},
   "outputs": [
    {
     "name": "stdout",
     "output_type": "stream",
     "text": [
      "Maximum Subarray Sum: 23\n",
      "Indices: (0,4)\n"
     ]
    },
    {
     "data": {
      "text/plain": [
       "[23, 0, 4]"
      ]
     },
     "execution_count": 6,
     "metadata": {},
     "output_type": "execute_result"
    }
   ],
   "source": [
    "test.maxSubArray([5,4,-1,7,8])"
   ]
  },
  {
   "cell_type": "code",
   "execution_count": 7,
   "metadata": {},
   "outputs": [
    {
     "name": "stdout",
     "output_type": "stream",
     "text": [
      "Maximum Subarray Sum: 15\n",
      "Indices: (1,5)\n"
     ]
    },
    {
     "data": {
      "text/plain": [
       "[15, 1, 5]"
      ]
     },
     "execution_count": 7,
     "metadata": {},
     "output_type": "execute_result"
    }
   ],
   "source": [
    "test.maxSubArray([-5,1,2,9,-5,8])"
   ]
  },
  {
   "cell_type": "code",
   "execution_count": 8,
   "metadata": {},
   "outputs": [
    {
     "name": "stdout",
     "output_type": "stream",
     "text": [
      "Maximum Subarray Sum: 38\n",
      "Indices: (3,19)\n"
     ]
    },
    {
     "data": {
      "text/plain": [
       "[38, 3, 19]"
      ]
     },
     "execution_count": 8,
     "metadata": {},
     "output_type": "execute_result"
    }
   ],
   "source": [
    "test.maxSubArray([-2,1,-3,4,-1,2,1,-5,4,5,4,-1,7,8,-5,1,2,9,-5,8])"
   ]
  },
  {
   "cell_type": "markdown",
   "metadata": {},
   "source": [
    "## Algorithm for Maximum Subarray Problem with Steps for Actual Time Spent Calculation"
   ]
  },
  {
   "cell_type": "code",
   "execution_count": 9,
   "metadata": {},
   "outputs": [],
   "source": [
    "class Maximum_Subarray2:\n",
    "    def __init__(self):\n",
    "        self.steps = 0\n",
    "    \n",
    "    def subArray(self, nums, low, high):\n",
    "        # Checking for base case\n",
    "        if (low == high):\n",
    "            self.steps +=2\n",
    "            return [nums[low],low,high]\n",
    "        self.steps +=1\n",
    "        # Finding middle index of subarray\n",
    "        mid = int((low + high)/2)\n",
    "        self.steps += 2\n",
    "\n",
    "        # Dividing subarray into further left and right subarrys \n",
    "        left, left_low, left_high = self.subArray(nums, low, mid)\n",
    "        self.steps += 4\n",
    "        right, right_low, right_high = self.subArray(nums, mid+1, high)\n",
    "        self.steps += 4\n",
    "        \n",
    "        # combining left and right subarrays, and looking for maximum cross subarray\n",
    "        i = mid\n",
    "        Sum = 0\n",
    "        left_sum = -sys.maxsize\n",
    "        left_sum_low = i\n",
    "        self.steps += 4\n",
    "        while i >= low:\n",
    "            Sum += nums[i]\n",
    "            self.steps += 1\n",
    "            \n",
    "            if Sum > left_sum:\n",
    "                left_sum = Sum\n",
    "                left_sum_low = i\n",
    "                self.steps += 2\n",
    "            self.steps += 1\n",
    "            \n",
    "            i -= 1\n",
    "            self.steps += 1\n",
    "        self.steps += 1\n",
    "        \n",
    "        i = mid + 1\n",
    "        Sum = 0\n",
    "        right_sum = -sys.maxsize\n",
    "        left_sum_high = i\n",
    "        self.steps += 4\n",
    "        while i <= high:\n",
    "            Sum += nums[i]\n",
    "            self.steps += 1\n",
    "            if Sum > right_sum:\n",
    "                right_sum = Sum\n",
    "                left_sum_high = i\n",
    "                self.steps += 2\n",
    "            self.steps += 1\n",
    "            \n",
    "            i += 1\n",
    "            self.steps += 1\n",
    "        self.steps += 1\n",
    "        \n",
    "        # maximum crossing subarray\n",
    "        cross = left_sum + right_sum\n",
    "        self.steps += 1\n",
    "\n",
    "        # returning maximum subarray\n",
    "        max_value = max(left,right,cross)\n",
    "        self.steps += 1\n",
    "        if (cross == max_value):\n",
    "            max_subarray = [max_value, left_sum_low, left_sum_high]\n",
    "            self.steps += 2\n",
    "        elif left == max_value:\n",
    "            max_subarray = [max_value, left_low, left_high]\n",
    "            self.steps += 3\n",
    "        elif right == max_value:\n",
    "            max_subarray = [max_value,  right_low, right_high]\n",
    "            self.steps += 4\n",
    "        \n",
    "        self.steps += 1\n",
    "        return max_subarray\n",
    "\n",
    "    def maxSubArray(self, nums):\n",
    "        max_subarray = self.subArray(nums, 0, len(nums) - 1)\n",
    "        print (\"Array: \" + str(nums))\n",
    "        print(\"Maximum Subarray Sum: \" + str(max_subarray[0]))\n",
    "        print(\"Indices: (\" + str(max_subarray[1]) + \",\" + str(max_subarray[2]) + \")\")\n",
    "        print(\"Number of steps taken: \" + str(self.steps))\n",
    "        print(\" \")\n",
    "        return self.steps"
   ]
  },
  {
   "cell_type": "code",
   "execution_count": 10,
   "metadata": {},
   "outputs": [],
   "source": [
    "arrays = [[1], [2,1], [5,4,-1,7,8], [-5,1,2,9,-5,8], [-2,1,-3,4,-1,2,1,-5,4,5,4,-1,7,8,-5,1,2,9,-5,8],[3,-2,5,-1],[1,-3,2,-5,7,6,-1,-4,11,-23],[1,-3,2,-5,7,6,-1,-4,11,-23,-2,1,-3,4,-1,2,1,-5,4,5,4,-1,7,8,-5,1,2,9,-5,8]]"
   ]
  },
  {
   "cell_type": "code",
   "execution_count": 11,
   "metadata": {},
   "outputs": [],
   "source": [
    "input_size = []\n",
    "steps = []"
   ]
  },
  {
   "cell_type": "code",
   "execution_count": 12,
   "metadata": {},
   "outputs": [
    {
     "name": "stdout",
     "output_type": "stream",
     "text": [
      "Array: [1]\n",
      "Maximum Subarray Sum: 1\n",
      "Indices: (0,0)\n",
      "Number of steps taken: 2\n",
      " \n",
      "Array: [2, 1]\n",
      "Maximum Subarray Sum: 3\n",
      "Indices: (0,1)\n",
      "Number of steps taken: 40\n",
      " \n",
      "Array: [5, 4, -1, 7, 8]\n",
      "Maximum Subarray Sum: 23\n",
      "Indices: (0,4)\n",
      "Number of steps taken: 175\n",
      " \n",
      "Array: [-5, 1, 2, 9, -5, 8]\n",
      "Maximum Subarray Sum: 15\n",
      "Indices: (1,5)\n",
      "Number of steps taken: 219\n",
      " \n",
      "Array: [-2, 1, -3, 4, -1, 2, 1, -5, 4, 5, 4, -1, 7, 8, -5, 1, 2, 9, -5, 8]\n",
      "Maximum Subarray Sum: 38\n",
      "Indices: (3,19)\n",
      "Number of steps taken: 939\n",
      " \n",
      "Array: [3, -2, 5, -1]\n",
      "Maximum Subarray Sum: 6\n",
      "Indices: (0,2)\n",
      "Number of steps taken: 126\n",
      " \n",
      "Array: [1, -3, 2, -5, 7, 6, -1, -4, 11, -23]\n",
      "Maximum Subarray Sum: 19\n",
      "Indices: (4,8)\n",
      "Number of steps taken: 412\n",
      " \n",
      "Array: [1, -3, 2, -5, 7, 6, -1, -4, 11, -23, -2, 1, -3, 4, -1, 2, 1, -5, 4, 5, 4, -1, 7, 8, -5, 1, 2, 9, -5, 8]\n",
      "Maximum Subarray Sum: 38\n",
      "Indices: (13,29)\n",
      "Number of steps taken: 1467\n",
      " \n"
     ]
    }
   ],
   "source": [
    "for arr in arrays:\n",
    "    test = Maximum_Subarray2()\n",
    "    input_size.append(len(arr))\n",
    "    steps.append(test.maxSubArray(arr) / 15)"
   ]
  },
  {
   "cell_type": "code",
   "execution_count": 13,
   "metadata": {},
   "outputs": [],
   "source": [
    "import math\n",
    "nlogn_time = []\n",
    "for size in input_size:\n",
    "    nlogn_time.append(size*math.log(size))"
   ]
  },
  {
   "cell_type": "code",
   "execution_count": 14,
   "metadata": {},
   "outputs": [
    {
     "data": {
      "image/png": "[encoded data removed]",
      "text/plain": [
       "<Figure size 432x288 with 1 Axes>"
      ]
     },
     "metadata": {
      "needs_background": "light"
     },
     "output_type": "display_data"
    }
   ],
   "source": [
    "import matplotlib.pyplot as plt\n",
    "plt.figure()\n",
    "plt.plot(input_size,steps, label=\"Actual Time Spent\")\n",
    "plt.plot(input_size,nlogn_time, label=\"Theoretical Time Complexity\")\n",
    "plt.title('Actual Time Spent vs. Theoretical Time Complexity')\n",
    "plt.xlabel('Input Size')\n",
    "plt.ylabel('Time Complexity')\n",
    "plt.legend()\n",
    "plt.show()"
   ]
  },
  {
   "cell_type": "markdown",
   "metadata": {},
   "source": [
    "After dividing the number of steps taken by the algorithm by 15 for completing the task and plotted with the theoritical time complexity of n*log(n), it is observed that the actual time is close to the theoritical time complexity for finding maximum subarray."
   ]
  },
  {
   "cell_type": "code",
   "execution_count": null,
   "metadata": {},
   "outputs": [],
   "source": []
  }
 ],
 "metadata": {
  "kernelspec": {
   "display_name": "Python 3",
   "language": "python",
   "name": "python3"
  },
  "language_info": {
   "codemirror_mode": {
    "name": "ipython",
    "version": 3
   },
   "file_extension": ".py",
   "mimetype": "text/x-python",
   "name": "python",
   "nbconvert_exporter": "python",
   "pygments_lexer": "ipython3",
   "version": "3.8.3"
  }
 },
 "nbformat": 4,
 "nbformat_minor": 4
}
