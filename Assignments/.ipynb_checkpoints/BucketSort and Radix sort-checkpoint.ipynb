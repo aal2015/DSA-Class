{
 "cells": [
  {
   "cell_type": "markdown",
   "metadata": {},
   "source": [
    "# Bucket Sort Implementation"
   ]
  },
  {
   "cell_type": "code",
   "execution_count": 73,
   "metadata": {},
   "outputs": [],
   "source": [
    "class BucketSort:\n",
    "    def insertion_sort(self,arr):\n",
    "        # handling base case\n",
    "        if (len(arr) < 2):\n",
    "            return arr\n",
    "        \n",
    "        # setting pointer which will mark the sorted array to its left and unsorting to its right\n",
    "        current = 1\n",
    "        while (current < len(arr)):\n",
    "            # current element  of the pointer\n",
    "            element = arr[current]\n",
    "            \n",
    "            # setting index which will be compared with the element\n",
    "            index = current\n",
    "            \n",
    "            # if value at index is greater than the element, it will be shifted to right\n",
    "            while (index > 0 and arr[index - 1] > element):\n",
    "                arr[index] = arr[index - 1]\n",
    "                index -= 1\n",
    "            \n",
    "            # filling in the element after shifting is done\n",
    "            arr[index] = element\n",
    "            current +=1\n",
    "        \n",
    "        return arr\n",
    "    \n",
    "    def bucketSort(self,arr):\n",
    "        # n elements\n",
    "        n = len(arr)\n",
    "        \n",
    "        # Creating n number of empty buckets\n",
    "        buckets = []\n",
    "        for i in range(n):\n",
    "            buckets.append([])\n",
    "        \n",
    "        # Putting elements of arr into different buckets according to its value\n",
    "        for a in arr:\n",
    "            buckets[int(n*a)].append(a)\n",
    "        \n",
    "        # Sorting buckets\n",
    "        for b in buckets:\n",
    "            b = self.insertion_sort(b)\n",
    "        \n",
    "        # Putting buckets together in arr\n",
    "        pos = 0\n",
    "        for bucket in buckets:\n",
    "            for b in bucket:\n",
    "                arr[pos] = b\n",
    "                pos += 1\n",
    "        return arr\n",
    "    \n",
    "    def bucketSort2(self,arr):\n",
    "        # n elements\n",
    "        n = len(arr)\n",
    "        \n",
    "        # Range of each bucket\n",
    "        Range = max(arr)\n",
    "        \n",
    "        # Creating n+1 number of empty buckets\n",
    "        buckets = []\n",
    "        for i in range(n+1):\n",
    "            buckets.append([])\n",
    "        \n",
    "        # Putting elements of arr into different buckets according to its value\n",
    "        for a in arr:\n",
    "            buckets[int(a / Range)].append(a)\n",
    "        \n",
    "        # Sorting buckets\n",
    "        for b in buckets:\n",
    "            b = self.insertion_sort(b)\n",
    "        \n",
    "        # Putting buckets together in arr\n",
    "        pos = 0\n",
    "        for bucket in buckets:\n",
    "            for b in bucket:\n",
    "                arr[pos] = b\n",
    "                pos += 1\n",
    "        return arr"
   ]
  },
  {
   "cell_type": "code",
   "execution_count": 74,
   "metadata": {},
   "outputs": [],
   "source": [
    "sortMethod = BucketSort()"
   ]
  },
  {
   "cell_type": "code",
   "execution_count": 81,
   "metadata": {},
   "outputs": [],
   "source": [
    "arr = [[0.78,0.17,0.39,0.26,0.72,0.94,0.21,0.12,0.23,0.68],[0.79,0.13,0.16,0.64,0.39,0.20,0.89,0.53,0.71,0.42]]"
   ]
  },
  {
   "cell_type": "code",
   "execution_count": 82,
   "metadata": {},
   "outputs": [
    {
     "name": "stdout",
     "output_type": "stream",
     "text": [
      "Original Array:\n",
      "[0.78, 0.17, 0.39, 0.26, 0.72, 0.94, 0.21, 0.12, 0.23, 0.68]\n",
      "Array after sorting: \n",
      "[0.12, 0.17, 0.21, 0.23, 0.26, 0.39, 0.68, 0.72, 0.78, 0.94]\n",
      " \n",
      "Original Array:\n",
      "[0.79, 0.13, 0.16, 0.64, 0.39, 0.2, 0.89, 0.53, 0.71, 0.42]\n",
      "Array after sorting: \n",
      "[0.13, 0.16, 0.2, 0.39, 0.42, 0.53, 0.64, 0.71, 0.79, 0.89]\n",
      " \n"
     ]
    }
   ],
   "source": [
    "for a in arr:\n",
    "    print(\"Original Array:\")\n",
    "    print(a)\n",
    "    b = sortMethod.bucketSort(a)\n",
    "    print(\"Array after sorting: \")\n",
    "    print(a)\n",
    "    print(\" \")"
   ]
  },
  {
   "cell_type": "markdown",
   "metadata": {},
   "source": [
    "<b>Note:</b> Method 'bucketSort' in class BucketSort was implemented according to the algorithm taught in the class. One limitation of this sorting is that the values had to be less than 1. One way to overcome this is to find the range of each bucket. Then the division of the element of array  by that range would determine which bucket the element should go into. This idea is implement in method 'bucketSort2'"
   ]
  },
  {
   "cell_type": "code",
   "execution_count": 83,
   "metadata": {},
   "outputs": [],
   "source": [
    "arr = [[0.78,0.17,0.39,0.26,0.72,0.94,0.21,0.12,0.23,0.68],[0.79,0.13,0.16,0.64,0.39,0.20,0.89,0.53,0.71,0.42]]"
   ]
  },
  {
   "cell_type": "code",
   "execution_count": 84,
   "metadata": {},
   "outputs": [
    {
     "name": "stdout",
     "output_type": "stream",
     "text": [
      "Original Array:\n",
      "[0.78, 0.17, 0.39, 0.26, 0.72, 0.94, 0.21, 0.12, 0.23, 0.68]\n",
      "Array after sorting: \n",
      "[0.12, 0.17, 0.21, 0.23, 0.26, 0.39, 0.68, 0.72, 0.78, 0.94]\n",
      " \n",
      "Original Array:\n",
      "[0.79, 0.13, 0.16, 0.64, 0.39, 0.2, 0.89, 0.53, 0.71, 0.42]\n",
      "Array after sorting: \n",
      "[0.13, 0.16, 0.2, 0.39, 0.42, 0.53, 0.64, 0.71, 0.79, 0.89]\n",
      " \n"
     ]
    }
   ],
   "source": [
    "for a in arr:\n",
    "    print(\"Original Array:\")\n",
    "    print(a)\n",
    "    b = sortMethod.bucketSort2(a)\n",
    "    print(\"Array after sorting: \")\n",
    "    print(a)\n",
    "    print(\" \")"
   ]
  },
  {
   "cell_type": "code",
   "execution_count": 85,
   "metadata": {},
   "outputs": [],
   "source": [
    "arr = [78,17,39,26,72,94,21,12,23,68]"
   ]
  },
  {
   "cell_type": "code",
   "execution_count": 86,
   "metadata": {},
   "outputs": [
    {
     "data": {
      "text/plain": [
       "[12, 17, 21, 23, 26, 39, 68, 72, 78, 94]"
      ]
     },
     "execution_count": 86,
     "metadata": {},
     "output_type": "execute_result"
    }
   ],
   "source": [
    "sortMethod.bucketSort2(arr)"
   ]
  },
  {
   "cell_type": "code",
   "execution_count": null,
   "metadata": {},
   "outputs": [],
   "source": []
  },
  {
   "cell_type": "markdown",
   "metadata": {},
   "source": [
    "# Radix Sort Implementation"
   ]
  },
  {
   "cell_type": "code",
   "execution_count": 326,
   "metadata": {},
   "outputs": [],
   "source": [
    "class RadixSort:\n",
    "    def counting_sort(self,arr):\n",
    "        # Getting the max value of the element in arr\n",
    "        max_value = max(arr)\n",
    "        \n",
    "        # Setting count list to record frequency of each element\n",
    "        count = [0] * (max_value+1)\n",
    "        \n",
    "        # Counting number of recurrence of each element\n",
    "        for a in arr:\n",
    "            count[a] += 1\n",
    "        \n",
    "        for i in range(1,max_value+1):\n",
    "            count[i] = count[i] + count[i-1]\n",
    "        \n",
    "        arr2 = arr.copy()\n",
    "        i = len(arr) - 1\n",
    "        while i >= 0:\n",
    "            arr2[count[arr[i]]-1] = arr[i]\n",
    "            count[arr[i]] -= 1\n",
    "            i-=1\n",
    "            \n",
    "        return arr2\n",
    "    \n",
    "    def countingSortForRadixSort(self,arr,place_value):        \n",
    "        # Setting count list to record frequency of each element\n",
    "        # Plus 1 to account for elements whose digits are less than d\n",
    "        count = [0] * 10 \n",
    "        \n",
    "        # Counting number of recurrence of each element\n",
    "        for a in arr:\n",
    "            element = int(a / place_value) % 10 \n",
    "            count[element] += 1\n",
    "        \n",
    "        for i in range(1,10):\n",
    "            count[i] = count[i] + count[i-1]\n",
    "        \n",
    "        arr2 = arr.copy()\n",
    "        i = len(arr) - 1\n",
    "        while i >= 0:\n",
    "            element = int(arr[i] / place_value) % 10 \n",
    "            arr2[count[element]-1] = arr[i]\n",
    "            count[element] -= 1\n",
    "            i-=1\n",
    "            \n",
    "        return arr2\n",
    "    \n",
    "    def radixSort(self,arr):\n",
    "        # maximum number of digits in arr\n",
    "        digits = len(str(max(arr)))\n",
    "        for d in range(1,digits+1):\n",
    "            arr = self.countingSortForRadixSort(arr,10**(d-1))\n",
    "        return arr"
   ]
  },
  {
   "cell_type": "code",
   "execution_count": 327,
   "metadata": {},
   "outputs": [],
   "source": [
    "sortMethod = RadixSort()"
   ]
  },
  {
   "cell_type": "code",
   "execution_count": 334,
   "metadata": {},
   "outputs": [],
   "source": [
    "arr = [6,0,2,0,1,3,4,6,1,3,2]"
   ]
  },
  {
   "cell_type": "code",
   "execution_count": 329,
   "metadata": {},
   "outputs": [
    {
     "data": {
      "text/plain": [
       "[0, 0, 1, 1, 2, 2, 3, 3, 4, 6, 6]"
      ]
     },
     "execution_count": 329,
     "metadata": {},
     "output_type": "execute_result"
    }
   ],
   "source": [
    "sortMethod.counting_sort(arr)"
   ]
  },
  {
   "cell_type": "code",
   "execution_count": 340,
   "metadata": {},
   "outputs": [],
   "source": [
    "arr = [[78,17,39,26,72,94,21,12,23,68],[79,13,16,64,39,20,89,53,71,42],[738,1337,39,236,172,994,201,132,23,68]]"
   ]
  },
  {
   "cell_type": "code",
   "execution_count": 341,
   "metadata": {},
   "outputs": [
    {
     "name": "stdout",
     "output_type": "stream",
     "text": [
      "Original Array:\n",
      "[78, 17, 39, 26, 72, 94, 21, 12, 23, 68]\n",
      "Array after sorting: \n",
      "[12, 17, 21, 23, 26, 39, 68, 72, 78, 94]\n",
      " \n",
      "Original Array:\n",
      "[79, 13, 16, 64, 39, 20, 89, 53, 71, 42]\n",
      "Array after sorting: \n",
      "[13, 16, 20, 39, 42, 53, 64, 71, 79, 89]\n",
      " \n",
      "Original Array:\n",
      "[738, 1337, 39, 236, 172, 994, 201, 132, 23, 68]\n",
      "Array after sorting: \n",
      "[23, 39, 68, 132, 172, 201, 236, 738, 994, 1337]\n",
      " \n"
     ]
    }
   ],
   "source": [
    "for a in arr:\n",
    "    print(\"Original Array:\")\n",
    "    print(a)\n",
    "    b = sortMethod.radixSort(a)\n",
    "    print(\"Array after sorting: \")\n",
    "    print(b)\n",
    "    print(\" \")"
   ]
  }
 ],
 "metadata": {
  "kernelspec": {
   "display_name": "Python 3",
   "language": "python",
   "name": "python3"
  },
  "language_info": {
   "codemirror_mode": {
    "name": "ipython",
    "version": 3
   },
   "file_extension": ".py",
   "mimetype": "text/x-python",
   "name": "python",
   "nbconvert_exporter": "python",
   "pygments_lexer": "ipython3",
   "version": "3.8.3"
  }
 },
 "nbformat": 4,
 "nbformat_minor": 4
}
