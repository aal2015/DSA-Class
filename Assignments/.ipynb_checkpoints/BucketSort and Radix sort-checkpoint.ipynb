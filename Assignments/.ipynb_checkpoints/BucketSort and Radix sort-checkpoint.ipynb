{
 "cells": [
  {
   "cell_type": "markdown",
   "metadata": {},
   "source": [
    "# Bucket Sort Implementation"
   ]
  },
  {
   "cell_type": "code",
   "execution_count": 1,
   "metadata": {},
   "outputs": [],
   "source": [
    "class BucketSort:\n",
    "    def insertion_sort(self,arr):\n",
    "        # handling base case\n",
    "        if (len(arr) < 2):\n",
    "            return arr\n",
    "        \n",
    "        # setting pointer which will mark the sorted array to its left and unsorting to its right\n",
    "        current = 1\n",
    "        while (current < len(arr)):\n",
    "            # current element  of the pointer\n",
    "            element = arr[current]\n",
    "            \n",
    "            # setting index which will be compared with the element\n",
    "            index = current\n",
    "            \n",
    "            # if value at index is greater than the element, it will be shifted to right\n",
    "            while (index > 0 and arr[index - 1] > element):\n",
    "                arr[index] = arr[index - 1]\n",
    "                index -= 1\n",
    "            \n",
    "            # filling in the element after shifting is done\n",
    "            arr[index] = element\n",
    "            current +=1\n",
    "        \n",
    "        return arr\n",
    "    \n",
    "    def bucketSort(self,arr):\n",
    "        # n elements\n",
    "        n = len(arr)\n",
    "        \n",
    "        # Creating n number of empty buckets\n",
    "        buckets = []\n",
    "        for i in range(n):\n",
    "            buckets.append([])\n",
    "        \n",
    "        # Putting elements of arr into different buckets according to its value\n",
    "        for a in arr:\n",
    "            buckets[int(n*a)].append(a)\n",
    "        \n",
    "        # Sorting buckets\n",
    "        for b in buckets:\n",
    "            b = self.insertion_sort(b)\n",
    "        \n",
    "        # Putting buckets together in arr\n",
    "        pos = 0\n",
    "        for bucket in buckets:\n",
    "            for b in bucket:\n",
    "                arr[pos] = b\n",
    "                pos += 1\n",
    "        return arr\n",
    "    \n",
    "    def bucketSort2(self,arr):\n",
    "        # n elements\n",
    "        n = len(arr)\n",
    "        \n",
    "        # Range of each bucket\n",
    "        Range = max(arr)\n",
    "        \n",
    "        # Creating n+1 number of empty buckets\n",
    "        buckets = []\n",
    "        for i in range(n+1):\n",
    "            buckets.append([])\n",
    "        \n",
    "        # Putting elements of arr into different buckets according to its value\n",
    "        for a in arr:\n",
    "            buckets[int(a / Range)].append(a)\n",
    "        \n",
    "        # Sorting buckets\n",
    "        for b in buckets:\n",
    "            b = self.insertion_sort(b)\n",
    "        \n",
    "        # Putting buckets together in arr\n",
    "        pos = 0\n",
    "        for bucket in buckets:\n",
    "            for b in bucket:\n",
    "                arr[pos] = b\n",
    "                pos += 1\n",
    "        return arr"
   ]
  },
  {
   "cell_type": "code",
   "execution_count": 2,
   "metadata": {},
   "outputs": [],
   "source": [
    "sortMethod = BucketSort()"
   ]
  },
  {
   "cell_type": "code",
   "execution_count": 3,
   "metadata": {},
   "outputs": [],
   "source": [
    "arr = [[0.78,0.17,0.39,0.26,0.72,0.94,0.21,0.12,0.23,0.68],[0.79,0.13,0.16,0.64,0.39,0.20,0.89,0.53,0.71,0.42]]"
   ]
  },
  {
   "cell_type": "code",
   "execution_count": 4,
   "metadata": {},
   "outputs": [
    {
     "name": "stdout",
     "output_type": "stream",
     "text": [
      "Original Array:\n",
      "[0.78, 0.17, 0.39, 0.26, 0.72, 0.94, 0.21, 0.12, 0.23, 0.68]\n",
      "Array after sorting: \n",
      "[0.12, 0.17, 0.21, 0.23, 0.26, 0.39, 0.68, 0.72, 0.78, 0.94]\n",
      " \n",
      "Original Array:\n",
      "[0.79, 0.13, 0.16, 0.64, 0.39, 0.2, 0.89, 0.53, 0.71, 0.42]\n",
      "Array after sorting: \n",
      "[0.13, 0.16, 0.2, 0.39, 0.42, 0.53, 0.64, 0.71, 0.79, 0.89]\n",
      " \n"
     ]
    }
   ],
   "source": [
    "for a in arr:\n",
    "    print(\"Original Array:\")\n",
    "    print(a)\n",
    "    b = sortMethod.bucketSort(a)\n",
    "    print(\"Array after sorting: \")\n",
    "    print(a)\n",
    "    print(\" \")"
   ]
  },
  {
   "cell_type": "markdown",
   "metadata": {},
   "source": [
    "<b>Note:</b> Method 'bucketSort' in class BucketSort was implemented according to the algorithm taught in the class. One limitation of this sorting is that the values had to be less than 1. One way to overcome this is to find the range of each bucket. Then the division of the element of array  by that range would determine which bucket the element should go into. This idea is implement in method 'bucketSort2'"
   ]
  },
  {
   "cell_type": "code",
   "execution_count": 5,
   "metadata": {},
   "outputs": [],
   "source": [
    "arr = [[0.78,0.17,0.39,0.26,0.72,0.94,0.21,0.12,0.23,0.68],[0.79,0.13,0.16,0.64,0.39,0.20,0.89,0.53,0.71,0.42]]"
   ]
  },
  {
   "cell_type": "code",
   "execution_count": 6,
   "metadata": {},
   "outputs": [
    {
     "name": "stdout",
     "output_type": "stream",
     "text": [
      "Original Array:\n",
      "[0.78, 0.17, 0.39, 0.26, 0.72, 0.94, 0.21, 0.12, 0.23, 0.68]\n",
      "Array after sorting: \n",
      "[0.12, 0.17, 0.21, 0.23, 0.26, 0.39, 0.68, 0.72, 0.78, 0.94]\n",
      " \n",
      "Original Array:\n",
      "[0.79, 0.13, 0.16, 0.64, 0.39, 0.2, 0.89, 0.53, 0.71, 0.42]\n",
      "Array after sorting: \n",
      "[0.13, 0.16, 0.2, 0.39, 0.42, 0.53, 0.64, 0.71, 0.79, 0.89]\n",
      " \n"
     ]
    }
   ],
   "source": [
    "for a in arr:\n",
    "    print(\"Original Array:\")\n",
    "    print(a)\n",
    "    b = sortMethod.bucketSort2(a)\n",
    "    print(\"Array after sorting: \")\n",
    "    print(a)\n",
    "    print(\" \")"
   ]
  },
  {
   "cell_type": "code",
   "execution_count": 7,
   "metadata": {},
   "outputs": [],
   "source": [
    "arr = [78,17,39,26,72,94,21,12,23,68]"
   ]
  },
  {
   "cell_type": "code",
   "execution_count": 8,
   "metadata": {},
   "outputs": [
    {
     "data": {
      "text/plain": [
       "[12, 17, 21, 23, 26, 39, 68, 72, 78, 94]"
      ]
     },
     "execution_count": 8,
     "metadata": {},
     "output_type": "execute_result"
    }
   ],
   "source": [
    "sortMethod.bucketSort2(arr)"
   ]
  },
  {
   "cell_type": "code",
   "execution_count": null,
   "metadata": {},
   "outputs": [],
   "source": []
  },
  {
   "cell_type": "markdown",
   "metadata": {},
   "source": [
    "# Radix Sort Implementation"
   ]
  },
  {
   "cell_type": "code",
   "execution_count": 9,
   "metadata": {},
   "outputs": [],
   "source": [
    "class RadixSort:\n",
    "    def counting_sort(self,arr):\n",
    "        # Getting the max value of the element in arr\n",
    "        max_value = max(arr)\n",
    "        \n",
    "        # Setting count list to record frequency of each element\n",
    "        count = [0] * (max_value+1)\n",
    "        \n",
    "        # Counting number of recurrence of each element\n",
    "        for a in arr:\n",
    "            count[a] += 1\n",
    "        \n",
    "        for i in range(1,max_value+1):\n",
    "            count[i] = count[i] + count[i-1]\n",
    "        \n",
    "        arr2 = arr.copy()\n",
    "        i = len(arr) - 1\n",
    "        while i >= 0:\n",
    "            arr2[count[arr[i]]-1] = arr[i]\n",
    "            count[arr[i]] -= 1\n",
    "            i-=1\n",
    "            \n",
    "        return arr2\n",
    "    \n",
    "    def countingSortForRadixSort(self,arr,place_value):        \n",
    "        # Setting count list to record frequency of each element\n",
    "        # Plus 1 to account for elements whose digits are less than d\n",
    "        count = [0] * 10 \n",
    "        \n",
    "        # Counting number of recurrence of each element\n",
    "        for a in arr:\n",
    "            element = int(a / place_value) % 10 \n",
    "            count[element] += 1\n",
    "        \n",
    "        for i in range(1,10):\n",
    "            count[i] = count[i] + count[i-1]\n",
    "        \n",
    "        arr2 = arr.copy()\n",
    "        i = len(arr) - 1\n",
    "        while i >= 0:\n",
    "            element = int(arr[i] / place_value) % 10 \n",
    "            arr2[count[element]-1] = arr[i]\n",
    "            count[element] -= 1\n",
    "            i-=1\n",
    "            \n",
    "        return arr2\n",
    "    \n",
    "    def radixSort(self,arr):\n",
    "        # maximum number of digits in arr\n",
    "        digits = len(str(max(arr)))\n",
    "        for d in range(1,digits+1):\n",
    "            arr = self.countingSortForRadixSort(arr,10**(d-1))\n",
    "        return arr"
   ]
  },
  {
   "cell_type": "code",
   "execution_count": 10,
   "metadata": {},
   "outputs": [],
   "source": [
    "sortMethod = RadixSort()"
   ]
  },
  {
   "cell_type": "code",
   "execution_count": 11,
   "metadata": {},
   "outputs": [],
   "source": [
    "arr = [6,0,2,0,1,3,4,6,1,3,2]"
   ]
  },
  {
   "cell_type": "code",
   "execution_count": 12,
   "metadata": {},
   "outputs": [
    {
     "data": {
      "text/plain": [
       "[0, 0, 1, 1, 2, 2, 3, 3, 4, 6, 6]"
      ]
     },
     "execution_count": 12,
     "metadata": {},
     "output_type": "execute_result"
    }
   ],
   "source": [
    "sortMethod.counting_sort(arr)"
   ]
  },
  {
   "cell_type": "code",
   "execution_count": 13,
   "metadata": {},
   "outputs": [],
   "source": [
    "arr = [[78,17,39,26,72,94,21,12,23,68],[79,13,16,64,39,20,89,53,71,42],[738,1337,39,236,172,994,201,132,23,68]]"
   ]
  },
  {
   "cell_type": "code",
   "execution_count": 14,
   "metadata": {},
   "outputs": [
    {
     "name": "stdout",
     "output_type": "stream",
     "text": [
      "Original Array:\n",
      "[78, 17, 39, 26, 72, 94, 21, 12, 23, 68]\n",
      "Array after sorting: \n",
      "[12, 17, 21, 23, 26, 39, 68, 72, 78, 94]\n",
      " \n",
      "Original Array:\n",
      "[79, 13, 16, 64, 39, 20, 89, 53, 71, 42]\n",
      "Array after sorting: \n",
      "[13, 16, 20, 39, 42, 53, 64, 71, 79, 89]\n",
      " \n",
      "Original Array:\n",
      "[738, 1337, 39, 236, 172, 994, 201, 132, 23, 68]\n",
      "Array after sorting: \n",
      "[23, 39, 68, 132, 172, 201, 236, 738, 994, 1337]\n",
      " \n"
     ]
    }
   ],
   "source": [
    "for a in arr:\n",
    "    print(\"Original Array:\")\n",
    "    print(a)\n",
    "    b = sortMethod.radixSort(a)\n",
    "    print(\"Array after sorting: \")\n",
    "    print(b)\n",
    "    print(\" \")"
   ]
  },
  {
   "cell_type": "code",
   "execution_count": null,
   "metadata": {},
   "outputs": [],
   "source": []
  },
  {
   "cell_type": "markdown",
   "metadata": {},
   "source": [
    "# Comparison of Bucket and Radix Sort with Quicksort"
   ]
  },
  {
   "cell_type": "markdown",
   "metadata": {},
   "source": [
    "<b>Note:</b> The algorithms defined here are the same as above. Only steps are included in this implemention to count the number of operation for comparision. Also the method bucketSort2 defined above for class BucketSort is bucketSort in this implementation. "
   ]
  },
  {
   "cell_type": "code",
   "execution_count": 15,
   "metadata": {},
   "outputs": [],
   "source": [
    "class BucketSort:\n",
    "    def __init__(self):\n",
    "        self.steps = 0 \n",
    "        \n",
    "    def insertion_sort(self,arr):\n",
    "        # handling base case\n",
    "        if (len(arr) < 2):\n",
    "            return arr\n",
    "            self.steps += 2\n",
    "        self.steps += 1\n",
    "    \n",
    "        \n",
    "        # setting pointer which will mark the sorted array to its left and unsorting to its right\n",
    "        current = 1\n",
    "        self.steps += 1\n",
    "        while (current < len(arr)):\n",
    "            # current element  of the pointer\n",
    "            element = arr[current]\n",
    "            \n",
    "            # setting index which will be compared with the element\n",
    "            index = current\n",
    "            self.steps += 2\n",
    "            \n",
    "            # if value at index is greater than the element, it will be shifted to right\n",
    "            while (index > 0 and arr[index - 1] > element):\n",
    "                arr[index] = arr[index - 1]\n",
    "                index -= 1\n",
    "                self.steps += 2\n",
    "            self.steps += 1\n",
    "            \n",
    "            # filling in the element after shifting is done\n",
    "            arr[index] = element\n",
    "            current +=1\n",
    "            self.steps += 2\n",
    "            self.steps += 1\n",
    "        return arr\n",
    "    \n",
    "    def bucketSort(self,arr):\n",
    "        # n elements\n",
    "        n = len(arr)\n",
    "        \n",
    "        # Range of each bucket\n",
    "        Range = max(arr)\n",
    "        \n",
    "        # Creating n+1 number of empty buckets\n",
    "        buckets = []\n",
    "        self.steps += 3\n",
    "        \n",
    "        for i in range(n+1):\n",
    "            buckets.append([])\n",
    "            self.steps += 1\n",
    "        \n",
    "        # Putting elements of arr into different buckets according to its value\n",
    "        for a in arr:\n",
    "            buckets[int(a / Range)].append(a)\n",
    "            self.steps += 1\n",
    "        \n",
    "        # Sorting buckets\n",
    "        for b in buckets:\n",
    "            b = self.insertion_sort(b)\n",
    "            self.steps += 1\n",
    "            \n",
    "        # Putting buckets together in arr\n",
    "        pos = 0\n",
    "        self.steps += 1\n",
    "        for bucket in buckets:\n",
    "            for b in bucket:\n",
    "                arr[pos] = b\n",
    "                pos += 1\n",
    "                self.steps += 2\n",
    "            self.steps += 1\n",
    "        return arr,self.steps"
   ]
  },
  {
   "cell_type": "code",
   "execution_count": 16,
   "metadata": {},
   "outputs": [],
   "source": [
    "class RadixSort:\n",
    "    def __init__(self):\n",
    "        self.steps = 0 \n",
    "        \n",
    "    def countingSortForRadixSort(self,arr,place_value):        \n",
    "        # Setting count list to record frequency of each element\n",
    "        # Plus 1 to account for elements whose digits are less than d\n",
    "        count = [0] * 10 \n",
    "        self.steps += 1 \n",
    "        \n",
    "        # Counting number of recurrence of each element\n",
    "        for a in arr:\n",
    "            element = int(a / place_value) % 10 \n",
    "            count[element] += 1\n",
    "            self.steps += 2\n",
    "        \n",
    "        for i in range(1,10):\n",
    "            count[i] = count[i] + count[i-1]\n",
    "            self.steps += 1 \n",
    "            \n",
    "        arr2 = arr.copy()\n",
    "        i = len(arr) - 1\n",
    "        self.steps += 2\n",
    "        while i >= 0:\n",
    "            element = int(arr[i] / place_value) % 10 \n",
    "            arr2[count[element]-1] = arr[i]\n",
    "            count[element] -= 1\n",
    "            i-=1\n",
    "            self.steps += 4\n",
    "            \n",
    "        return arr2\n",
    "    \n",
    "    def radixSort(self,arr):\n",
    "        # maximum number of digits in arr\n",
    "        digits = len(str(max(arr)))\n",
    "        self.steps += 1 \n",
    "        for d in range(1,digits+1):\n",
    "            arr = self.countingSortForRadixSort(arr,10**(d-1))\n",
    "            self.steps += 1 \n",
    "        return arr,self.steps"
   ]
  },
  {
   "cell_type": "code",
   "execution_count": 17,
   "metadata": {},
   "outputs": [],
   "source": [
    "class Quicksort:\n",
    "    def __init__(self):\n",
    "        self.steps = 0 \n",
    "        \n",
    "    def partition(self,arr,low,high):\n",
    "        pivot = arr[high]\n",
    "        i = low\n",
    "        self.steps += 2\n",
    "        \n",
    "        for pos in range(low, high):\n",
    "            if arr[pos] < pivot:\n",
    "                arr[i],arr[pos] = arr[pos],arr[i]\n",
    "                i += 1\n",
    "                self.steps += 3\n",
    "            self.steps += 2\n",
    "        arr[i],arr[high] = arr[high],arr[i]\n",
    "        self.steps += 2\n",
    "        return i\n",
    "        \n",
    "    def quicksort(self,arr,low,high):\n",
    "        if low < high:\n",
    "            index = self.partition(arr,low,high)\n",
    "            self.quicksort(arr,low,index-1)\n",
    "            self.quicksort(arr,index+1,high)\n",
    "            self.steps += 3\n",
    "        self.steps += 1\n",
    "        return self.steps"
   ]
  },
  {
   "cell_type": "code",
   "execution_count": 31,
   "metadata": {},
   "outputs": [],
   "source": [
    "arr = [[78,17,39,26,72,94,21,12,23,68,79,13,16,64,39,20,89,53,71,42],[78,17,39,26,72,94,21,12,23,68],[79,13,16,64,39,20,89,53,71,42],[738,1337,39,236,172,994,201,132,23,68],[3,6,5,0,8,2,1,9],[3,5,1,8,4],[1], [2,1], [5,4,1,7,8], [5,1,2,9,5,8], [2,1,3,4,1,2,1,5,4,5,4,1,7,8,5,1,2,9,5,8],[3,2,5,1],[1,3,2,5,7,6,1,4,11,23],[1,3,2,5,7,6,1,4,11,23,2,1,3,4,1,2,1,5,4,5,4,1,7,8,5,1,2,9,5,8],[1,3,2,5,7,6,1,4,11,23,1,3,2,5,7,6,1,4,11,23,2,1,3,4,1,2,1,5,4,5,4,1,7,8,5,1,2,9,5,8]]"
   ]
  },
  {
   "cell_type": "code",
   "execution_count": 32,
   "metadata": {},
   "outputs": [],
   "source": [
    "bucketSort_len,bucketSort_steps = [],[]"
   ]
  },
  {
   "cell_type": "code",
   "execution_count": 33,
   "metadata": {},
   "outputs": [
    {
     "name": "stdout",
     "output_type": "stream",
     "text": [
      "Bucket Sort\n",
      "\n",
      "Original Array:\n",
      "[78, 17, 39, 26, 72, 94, 21, 12, 23, 68, 79, 13, 16, 64, 39, 20, 89, 53, 71, 42]\n",
      "Array after sorting: \n",
      "[12, 13, 16, 17, 20, 21, 23, 26, 39, 39, 42, 53, 64, 68, 71, 72, 78, 79, 89, 94]\n",
      "Steps: 389\n",
      " \n",
      "Original Array:\n",
      "[78, 17, 39, 26, 72, 94, 21, 12, 23, 68]\n",
      "Array after sorting: \n",
      "[12, 17, 21, 23, 26, 39, 68, 72, 78, 94]\n",
      "Steps: 159\n",
      " \n",
      "Original Array:\n",
      "[79, 13, 16, 64, 39, 20, 89, 53, 71, 42]\n",
      "Array after sorting: \n",
      "[13, 16, 20, 39, 42, 53, 64, 71, 79, 89]\n",
      "Steps: 147\n",
      " \n",
      "Original Array:\n",
      "[738, 1337, 39, 236, 172, 994, 201, 132, 23, 68]\n",
      "Array after sorting: \n",
      "[23, 39, 68, 132, 172, 201, 236, 738, 994, 1337]\n",
      "Steps: 167\n",
      " \n",
      "Original Array:\n",
      "[3, 6, 5, 0, 8, 2, 1, 9]\n",
      "Array after sorting: \n",
      "[0, 1, 2, 3, 5, 6, 8, 9]\n",
      "Steps: 119\n",
      " \n",
      "Original Array:\n",
      "[3, 5, 1, 8, 4]\n",
      "Array after sorting: \n",
      "[1, 3, 4, 5, 8]\n",
      "Steps: 63\n",
      " \n",
      "Original Array:\n",
      "[1]\n",
      "Array after sorting: \n",
      "[1]\n",
      "Steps: 13\n",
      " \n",
      "Original Array:\n",
      "[2, 1]\n",
      "Array after sorting: \n",
      "[1, 2]\n",
      "Steps: 19\n",
      " \n",
      "Original Array:\n",
      "[5, 4, 1, 7, 8]\n",
      "Array after sorting: \n",
      "[1, 4, 5, 7, 8]\n",
      "Steps: 63\n",
      " \n",
      "Original Array:\n",
      "[5, 1, 2, 9, 5, 8]\n",
      "Array after sorting: \n",
      "[1, 2, 5, 5, 8, 9]\n",
      "Steps: 73\n",
      " \n",
      "Original Array:\n",
      "[2, 1, 3, 4, 1, 2, 1, 5, 4, 5, 4, 1, 7, 8, 5, 1, 2, 9, 5, 8]\n",
      "Array after sorting: \n",
      "[1, 1, 1, 1, 1, 2, 2, 2, 3, 4, 4, 4, 5, 5, 5, 5, 7, 8, 8, 9]\n",
      "Steps: 327\n",
      " \n",
      "Original Array:\n",
      "[3, 2, 5, 1]\n",
      "Array after sorting: \n",
      "[1, 2, 3, 5]\n",
      "Steps: 51\n",
      " \n",
      "Original Array:\n",
      "[1, 3, 2, 5, 7, 6, 1, 4, 11, 23]\n",
      "Array after sorting: \n",
      "[1, 1, 2, 3, 4, 5, 6, 7, 11, 23]\n",
      "Steps: 137\n",
      " \n",
      "Original Array:\n",
      "[1, 3, 2, 5, 7, 6, 1, 4, 11, 23, 2, 1, 3, 4, 1, 2, 1, 5, 4, 5, 4, 1, 7, 8, 5, 1, 2, 9, 5, 8]\n",
      "Array after sorting: \n",
      "[1, 1, 1, 1, 1, 1, 1, 2, 2, 2, 2, 3, 3, 4, 4, 4, 4, 5, 5, 5, 5, 5, 6, 7, 7, 8, 8, 9, 11, 23]\n",
      "Steps: 643\n",
      " \n",
      "Original Array:\n",
      "[1, 3, 2, 5, 7, 6, 1, 4, 11, 23, 1, 3, 2, 5, 7, 6, 1, 4, 11, 23, 2, 1, 3, 4, 1, 2, 1, 5, 4, 5, 4, 1, 7, 8, 5, 1, 2, 9, 5, 8]\n",
      "Array after sorting: \n",
      "[1, 1, 1, 1, 1, 1, 1, 1, 1, 2, 2, 2, 2, 2, 3, 3, 3, 4, 4, 4, 4, 4, 5, 5, 5, 5, 5, 5, 6, 6, 7, 7, 7, 8, 8, 9, 11, 11, 23, 23]\n",
      "Steps: 1027\n",
      " \n"
     ]
    }
   ],
   "source": [
    "print(\"Bucket Sort\\n\")\n",
    "for a in arr:\n",
    "    bucketSort = BucketSort()\n",
    "    print(\"Original Array:\")\n",
    "    print(a)\n",
    "    b,steps = bucketSort.bucketSort(a)\n",
    "    bucketSort_len.append(len(a))\n",
    "    bucketSort_steps.append(steps)\n",
    "    print(\"Array after sorting: \")\n",
    "    print(a)\n",
    "    print(\"Steps: \" + str(steps))\n",
    "    print(\" \")"
   ]
  },
  {
   "cell_type": "code",
   "execution_count": 34,
   "metadata": {},
   "outputs": [],
   "source": [
    "arr = [[78,17,39,26,72,94,21,12,23,68,79,13,16,64,39,20,89,53,71,42],[78,17,39,26,72,94,21,12,23,68],[79,13,16,64,39,20,89,53,71,42],[738,1337,39,236,172,994,201,132,23,68],[3,6,5,0,8,2,1,9],[3,5,1,8,4],[1], [2,1], [5,4,1,7,8], [5,1,2,9,5,8], [2,1,3,4,1,2,1,5,4,5,4,1,7,8,5,1,2,9,5,8],[3,2,5,1],[1,3,2,5,7,6,1,4,11,23],[1,3,2,5,7,6,1,4,11,23,2,1,3,4,1,2,1,5,4,5,4,1,7,8,5,1,2,9,5,8],[1,3,2,5,7,6,1,4,11,23,1,3,2,5,7,6,1,4,11,23,2,1,3,4,1,2,1,5,4,5,4,1,7,8,5,1,2,9,5,8]]"
   ]
  },
  {
   "cell_type": "code",
   "execution_count": 35,
   "metadata": {},
   "outputs": [],
   "source": [
    "radixSort_len,radixSort_steps = [],[]"
   ]
  },
  {
   "cell_type": "code",
   "execution_count": 36,
   "metadata": {},
   "outputs": [
    {
     "name": "stdout",
     "output_type": "stream",
     "text": [
      "Radix Sort\n",
      "\n",
      "Original Array:\n",
      "[78, 17, 39, 26, 72, 94, 21, 12, 23, 68, 79, 13, 16, 64, 39, 20, 89, 53, 71, 42]\n",
      "Array after sorting: \n",
      "[12, 13, 16, 17, 20, 21, 23, 26, 39, 39, 42, 53, 64, 68, 71, 72, 78, 79, 89, 94]\n",
      "Steps: 267\n",
      " \n",
      "Original Array:\n",
      "[78, 17, 39, 26, 72, 94, 21, 12, 23, 68]\n",
      "Array after sorting: \n",
      "[12, 17, 21, 23, 26, 39, 68, 72, 78, 94]\n",
      "Steps: 147\n",
      " \n",
      "Original Array:\n",
      "[79, 13, 16, 64, 39, 20, 89, 53, 71, 42]\n",
      "Array after sorting: \n",
      "[13, 16, 20, 39, 42, 53, 64, 71, 79, 89]\n",
      "Steps: 147\n",
      " \n",
      "Original Array:\n",
      "[738, 1337, 39, 236, 172, 994, 201, 132, 23, 68]\n",
      "Array after sorting: \n",
      "[23, 39, 68, 132, 172, 201, 236, 738, 994, 1337]\n",
      "Steps: 293\n",
      " \n",
      "Original Array:\n",
      "[3, 6, 5, 0, 8, 2, 1, 9]\n",
      "Array after sorting: \n",
      "[0, 1, 2, 3, 5, 6, 8, 9]\n",
      "Steps: 62\n",
      " \n",
      "Original Array:\n",
      "[3, 5, 1, 8, 4]\n",
      "Array after sorting: \n",
      "[1, 3, 4, 5, 8]\n",
      "Steps: 44\n",
      " \n",
      "Original Array:\n",
      "[1]\n",
      "Array after sorting: \n",
      "[1]\n",
      "Steps: 20\n",
      " \n",
      "Original Array:\n",
      "[2, 1]\n",
      "Array after sorting: \n",
      "[1, 2]\n",
      "Steps: 26\n",
      " \n",
      "Original Array:\n",
      "[5, 4, 1, 7, 8]\n",
      "Array after sorting: \n",
      "[1, 4, 5, 7, 8]\n",
      "Steps: 44\n",
      " \n",
      "Original Array:\n",
      "[5, 1, 2, 9, 5, 8]\n",
      "Array after sorting: \n",
      "[1, 2, 5, 5, 8, 9]\n",
      "Steps: 50\n",
      " \n",
      "Original Array:\n",
      "[2, 1, 3, 4, 1, 2, 1, 5, 4, 5, 4, 1, 7, 8, 5, 1, 2, 9, 5, 8]\n",
      "Array after sorting: \n",
      "[1, 1, 1, 1, 1, 2, 2, 2, 3, 4, 4, 4, 5, 5, 5, 5, 7, 8, 8, 9]\n",
      "Steps: 134\n",
      " \n",
      "Original Array:\n",
      "[3, 2, 5, 1]\n",
      "Array after sorting: \n",
      "[1, 2, 3, 5]\n",
      "Steps: 38\n",
      " \n",
      "Original Array:\n",
      "[1, 3, 2, 5, 7, 6, 1, 4, 11, 23]\n",
      "Array after sorting: \n",
      "[1, 1, 2, 3, 4, 5, 6, 7, 11, 23]\n",
      "Steps: 147\n",
      " \n",
      "Original Array:\n",
      "[1, 3, 2, 5, 7, 6, 1, 4, 11, 23, 2, 1, 3, 4, 1, 2, 1, 5, 4, 5, 4, 1, 7, 8, 5, 1, 2, 9, 5, 8]\n",
      "Array after sorting: \n",
      "[1, 1, 1, 1, 1, 1, 1, 2, 2, 2, 2, 3, 3, 4, 4, 4, 4, 5, 5, 5, 5, 5, 6, 7, 7, 8, 8, 9, 11, 23]\n",
      "Steps: 387\n",
      " \n",
      "Original Array:\n",
      "[1, 3, 2, 5, 7, 6, 1, 4, 11, 23, 1, 3, 2, 5, 7, 6, 1, 4, 11, 23, 2, 1, 3, 4, 1, 2, 1, 5, 4, 5, 4, 1, 7, 8, 5, 1, 2, 9, 5, 8]\n",
      "Array after sorting: \n",
      "[1, 1, 1, 1, 1, 1, 1, 1, 1, 2, 2, 2, 2, 2, 3, 3, 3, 4, 4, 4, 4, 4, 5, 5, 5, 5, 5, 5, 6, 6, 7, 7, 7, 8, 8, 9, 11, 11, 23, 23]\n",
      "Steps: 507\n",
      " \n"
     ]
    }
   ],
   "source": [
    "print(\"Radix Sort\\n\")\n",
    "for a in arr:\n",
    "    radixSort = RadixSort()\n",
    "    print(\"Original Array:\")\n",
    "    print(a)\n",
    "    b,steps = radixSort.radixSort(a)\n",
    "    radixSort_len.append(len(a))\n",
    "    radixSort_steps.append(steps)\n",
    "    print(\"Array after sorting: \")\n",
    "    print(b)\n",
    "    print(\"Steps: \" + str(steps))\n",
    "    print(\" \")"
   ]
  },
  {
   "cell_type": "code",
   "execution_count": 37,
   "metadata": {},
   "outputs": [],
   "source": [
    "arr = [[78,17,39,26,72,94,21,12,23,68,79,13,16,64,39,20,89,53,71,42],[78,17,39,26,72,94,21,12,23,68],[79,13,16,64,39,20,89,53,71,42],[738,1337,39,236,172,994,201,132,23,68],[3,6,5,0,8,2,1,9],[3,5,1,8,4],[1], [2,1], [5,4,1,7,8], [5,1,2,9,5,8], [2,1,3,4,1,2,1,5,4,5,4,1,7,8,5,1,2,9,5,8],[3,2,5,1],[1,3,2,5,7,6,1,4,11,23],[1,3,2,5,7,6,1,4,11,23,2,1,3,4,1,2,1,5,4,5,4,1,7,8,5,1,2,9,5,8],[1,3,2,5,7,6,1,4,11,23,1,3,2,5,7,6,1,4,11,23,2,1,3,4,1,2,1,5,4,5,4,1,7,8,5,1,2,9,5,8]]"
   ]
  },
  {
   "cell_type": "code",
   "execution_count": 38,
   "metadata": {},
   "outputs": [],
   "source": [
    "quicksort_len,quicksort_steps = [],[]"
   ]
  },
  {
   "cell_type": "code",
   "execution_count": 39,
   "metadata": {},
   "outputs": [
    {
     "name": "stdout",
     "output_type": "stream",
     "text": [
      "Original Array:\n",
      "[78, 17, 39, 26, 72, 94, 21, 12, 23, 68, 79, 13, 16, 64, 39, 20, 89, 53, 71, 42]\n",
      "Array after sorting: \n",
      "[12, 13, 16, 17, 20, 21, 23, 26, 39, 39, 42, 53, 64, 68, 71, 72, 78, 79, 89, 94]\n",
      "Steps: 322\n",
      " \n",
      "Original Array:\n",
      "[78, 17, 39, 26, 72, 94, 21, 12, 23, 68]\n",
      "Array after sorting: \n",
      "[12, 17, 21, 23, 26, 39, 68, 72, 78, 94]\n",
      "Steps: 128\n",
      " \n",
      "Original Array:\n",
      "[79, 13, 16, 64, 39, 20, 89, 53, 71, 42]\n",
      "Array after sorting: \n",
      "[13, 16, 20, 39, 42, 53, 64, 71, 79, 89]\n",
      "Steps: 131\n",
      " \n",
      "Original Array:\n",
      "[738, 1337, 39, 236, 172, 994, 201, 132, 23, 68]\n",
      "Array after sorting: \n",
      "[23, 39, 68, 132, 172, 201, 236, 738, 994, 1337]\n",
      "Steps: 137\n",
      " \n",
      "Original Array:\n",
      "[3, 6, 5, 0, 8, 2, 1, 9]\n",
      "Array after sorting: \n",
      "[0, 1, 2, 3, 5, 6, 8, 9]\n",
      "Steps: 122\n",
      " \n",
      "Original Array:\n",
      "[3, 5, 1, 8, 4]\n",
      "Array after sorting: \n",
      "[1, 3, 4, 5, 8]\n",
      "Steps: 46\n",
      " \n",
      "Original Array:\n",
      "[1]\n",
      "Array after sorting: \n",
      "[1]\n",
      "Steps: 1\n",
      " \n",
      "Original Array:\n",
      "[2, 1]\n",
      "Array after sorting: \n",
      "[1, 2]\n",
      "Steps: 12\n",
      " \n",
      "Original Array:\n",
      "[5, 4, 1, 7, 8]\n",
      "Array after sorting: \n",
      "[1, 4, 5, 7, 8]\n",
      "Steps: 81\n",
      " \n",
      "Original Array:\n",
      "[5, 1, 2, 9, 5, 8]\n",
      "Array after sorting: \n",
      "[1, 2, 5, 5, 8, 9]\n",
      "Steps: 67\n",
      " \n",
      "Original Array:\n",
      "[2, 1, 3, 4, 1, 2, 1, 5, 4, 5, 4, 1, 7, 8, 5, 1, 2, 9, 5, 8]\n",
      "Array after sorting: \n",
      "[1, 1, 1, 1, 1, 2, 2, 2, 3, 4, 4, 4, 5, 5, 5, 5, 7, 8, 8, 9]\n",
      "Steps: 403\n",
      " \n",
      "Original Array:\n",
      "[3, 2, 5, 1]\n",
      "Array after sorting: \n",
      "[1, 2, 3, 5]\n",
      "Steps: 32\n",
      " \n",
      "Original Array:\n",
      "[1, 3, 2, 5, 7, 6, 1, 4, 11, 23]\n",
      "Array after sorting: \n",
      "[1, 1, 2, 3, 4, 5, 6, 7, 11, 23]\n",
      "Steps: 211\n",
      " \n",
      "Original Array:\n",
      "[1, 3, 2, 5, 7, 6, 1, 4, 11, 23, 2, 1, 3, 4, 1, 2, 1, 5, 4, 5, 4, 1, 7, 8, 5, 1, 2, 9, 5, 8]\n",
      "Array after sorting: \n",
      "[1, 1, 1, 1, 1, 1, 1, 2, 2, 2, 2, 3, 3, 4, 4, 4, 4, 5, 5, 5, 5, 5, 6, 7, 7, 8, 8, 9, 11, 23]\n",
      "Steps: 643\n",
      " \n",
      "Original Array:\n",
      "[1, 3, 2, 5, 7, 6, 1, 4, 11, 23, 1, 3, 2, 5, 7, 6, 1, 4, 11, 23, 2, 1, 3, 4, 1, 2, 1, 5, 4, 5, 4, 1, 7, 8, 5, 1, 2, 9, 5, 8]\n",
      "Array after sorting: \n",
      "[1, 1, 1, 1, 1, 1, 1, 1, 1, 2, 2, 2, 2, 2, 3, 3, 3, 4, 4, 4, 4, 4, 5, 5, 5, 5, 5, 5, 6, 6, 7, 7, 7, 8, 8, 9, 11, 11, 23, 23]\n",
      "Steps: 930\n",
      " \n"
     ]
    }
   ],
   "source": [
    "for a in arr:\n",
    "    print(\"Original Array:\")\n",
    "    print(a)\n",
    "    quicksort = Quicksort()\n",
    "    steps = quicksort.quicksort(a,0,len(a)-1)\n",
    "    quicksort_len.append(len(a))\n",
    "    quicksort_steps.append(steps)\n",
    "    print(\"Array after sorting: \")\n",
    "    print(a)\n",
    "    print(\"Steps: \" + str(steps))\n",
    "    print(\" \")"
   ]
  },
  {
   "cell_type": "markdown",
   "metadata": {},
   "source": [
    "### Plot"
   ]
  },
  {
   "cell_type": "code",
   "execution_count": 42,
   "metadata": {},
   "outputs": [
    {
     "data": {
      "image/png": "[encoded data removed]",
      "text/plain": [
       "<Figure size 432x288 with 1 Axes>"
      ]
     },
     "metadata": {
      "needs_background": "light"
     },
     "output_type": "display_data"
    }
   ],
   "source": [
    "import matplotlib.pyplot as plt\n",
    "plt.figure()\n",
    "\n",
    "plt.plot(bucketSort_len,bucketSort_steps, label=\"Bucket Sort\")\n",
    "plt.plot(radixSort_len,radixSort_steps, label=\"Radix Sort\")\n",
    "plt.plot(quicksort_len,quicksort_steps, label=\"Quick Sort\")\n",
    "\n",
    "plt.title('Time Complexity of Bucket Sort, Radix Sort, Quick Sort')\n",
    "plt.xlabel('Input Size')\n",
    "plt.ylabel('Time Complexity')\n",
    "plt.legend()\n",
    "plt.show()"
   ]
  },
  {
   "cell_type": "markdown",
   "metadata": {},
   "source": [
    "From the time complexity plot above, we can observe that the radix sort appears to run in time complexity of O(n) while the bucket and the  quick sort in O(n log n). This behaviour is expected from the radix and the quick sort since their theoritical time complexity follows this trend in a similar way. However, it was not expected from the bucket sort to have similar running time with the quick sort since it is a linear time complexity algorithm like quick sort. This indicates that the input was not uniformly distributed and hence its larger runtime. From this plot, we can say that the radix sort is preferable to  the quick sort to sort arrays in this case. However, quick sort has its own use case like while quick sort does sorting in place, radix sort uses temporary space. When the memory is of major concern, quick sort is the algorithm to pick. Also, radix sort also has a limitation of not being able to sort negative values while quick sort is not limited by this.  "
   ]
  },
  {
   "cell_type": "code",
   "execution_count": null,
   "metadata": {},
   "outputs": [],
   "source": []
  }
 ],
 "metadata": {
  "kernelspec": {
   "display_name": "Python 3",
   "language": "python",
   "name": "python3"
  },
  "language_info": {
   "codemirror_mode": {
    "name": "ipython",
    "version": 3
   },
   "file_extension": ".py",
   "mimetype": "text/x-python",
   "name": "python",
   "nbconvert_exporter": "python",
   "pygments_lexer": "ipython3",
   "version": "3.8.3"
  }
 },
 "nbformat": 4,
 "nbformat_minor": 4
}
