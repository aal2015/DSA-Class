{
 "cells": [
  {
   "cell_type": "markdown",
   "metadata": {},
   "source": [
    "# HeapSort Implementation"
   ]
  },
  {
   "cell_type": "code",
   "execution_count": 1,
   "metadata": {},
   "outputs": [],
   "source": [
    "class HeapSort:\n",
    "    def max_heapify(self,arr,i,heap_size):\n",
    "        left  = 2*i + 1\n",
    "        right = 2*i + 2\n",
    "        largest = i\n",
    "        \n",
    "        if left < heap_size and arr[left] > arr[largest]:\n",
    "            largest = left\n",
    "        if right < heap_size and arr[right] > arr[largest]:\n",
    "            largest = right\n",
    "        if largest != i:\n",
    "            arr[i],arr[largest] = arr[largest],arr[i]\n",
    "            self.max_heapify(arr,largest,heap_size)\n",
    "            \n",
    "    def build_max_heap(self,arr):\n",
    "        i = len(arr) // 2 - 1\n",
    "        while i >= 0:\n",
    "            self.max_heapify(arr,i,len(arr))\n",
    "            i -= 1\n",
    "    \n",
    "    def heap_sort(self,arr):\n",
    "        self.build_max_heap(arr)\n",
    "\n",
    "        i = len(arr) - 1\n",
    "        while i > 0:\n",
    "            arr[0],arr[i] = arr[i],arr[0]\n",
    "            self.max_heapify(arr,0,i)\n",
    "            i -= 1"
   ]
  },
  {
   "cell_type": "code",
   "execution_count": 2,
   "metadata": {},
   "outputs": [],
   "source": [
    "test = HeapSort()"
   ]
  },
  {
   "cell_type": "code",
   "execution_count": 3,
   "metadata": {},
   "outputs": [],
   "source": [
    "arr = [[3,6,5,0,8,2,1,9],[3,5,1,8,4],[1], [2,1], [5,4,-1,7,8], [-5,1,2,9,-5,8], [-2,1,-3,4,-1,2,1,-5,4,5,4,-1,7,8,-5,1,2,9,-5,8],[3,-2,5,-1],[1,-3,2,-5,7,6,-1,-4,11,-23],[1,-3,2,-5,7,6,-1,-4,11,-23,-2,1,-3,4,-1,2,1,-5,4,5,4,-1,7,8,-5,1,2,9,-5,8]]"
   ]
  },
  {
   "cell_type": "code",
   "execution_count": 4,
   "metadata": {},
   "outputs": [],
   "source": [
    "for a in arr:\n",
    "    test.heap_sort(a)"
   ]
  },
  {
   "cell_type": "code",
   "execution_count": 5,
   "metadata": {},
   "outputs": [
    {
     "name": "stdout",
     "output_type": "stream",
     "text": [
      "[0, 1, 2, 3, 5, 6, 8, 9]\n",
      "[1, 3, 4, 5, 8]\n",
      "[1]\n",
      "[1, 2]\n",
      "[-1, 4, 5, 7, 8]\n",
      "[-5, -5, 1, 2, 8, 9]\n",
      "[-5, -5, -5, -3, -2, -1, -1, 1, 1, 1, 2, 2, 4, 4, 4, 5, 7, 8, 8, 9]\n",
      "[-2, -1, 3, 5]\n",
      "[-23, -5, -4, -3, -1, 1, 2, 6, 7, 11]\n",
      "[-23, -5, -5, -5, -5, -4, -3, -3, -2, -1, -1, -1, 1, 1, 1, 1, 2, 2, 2, 4, 4, 4, 5, 6, 7, 7, 8, 8, 9, 11]\n"
     ]
    }
   ],
   "source": [
    "for a in arr:\n",
    "    print(a)"
   ]
  },
  {
   "cell_type": "markdown",
   "metadata": {},
   "source": [
    "# QuickSort Implementation"
   ]
  },
  {
   "cell_type": "code",
   "execution_count": 6,
   "metadata": {},
   "outputs": [],
   "source": [
    "class Quicksort:\n",
    "    def partition(self,arr,low,high):\n",
    "        pivot = arr[high]\n",
    "        i = low\n",
    "        for pos in range(low, high):\n",
    "            if arr[pos] < pivot:\n",
    "                arr[i],arr[pos] = arr[pos],arr[i]\n",
    "                i += 1\n",
    "        arr[i],arr[high] = arr[high],arr[i]\n",
    "        return i\n",
    "        \n",
    "    def quicksort(self,arr,low,high):\n",
    "        if low < high:\n",
    "            index = self.partition(arr,low,high)\n",
    "            self.quicksort(arr,low,index-1)\n",
    "            self.quicksort(arr,index+1,high)\n",
    "            "
   ]
  },
  {
   "cell_type": "code",
   "execution_count": 7,
   "metadata": {},
   "outputs": [],
   "source": [
    "test = Quicksort()"
   ]
  },
  {
   "cell_type": "code",
   "execution_count": 8,
   "metadata": {},
   "outputs": [],
   "source": [
    "for a in arr:\n",
    "    test.quicksort(a,0,len(a)-1)"
   ]
  },
  {
   "cell_type": "code",
   "execution_count": 9,
   "metadata": {},
   "outputs": [
    {
     "name": "stdout",
     "output_type": "stream",
     "text": [
      "[0, 1, 2, 3, 5, 6, 8, 9]\n",
      "[1, 3, 4, 5, 8]\n",
      "[1]\n",
      "[1, 2]\n",
      "[-1, 4, 5, 7, 8]\n",
      "[-5, -5, 1, 2, 8, 9]\n",
      "[-5, -5, -5, -3, -2, -1, -1, 1, 1, 1, 2, 2, 4, 4, 4, 5, 7, 8, 8, 9]\n",
      "[-2, -1, 3, 5]\n",
      "[-23, -5, -4, -3, -1, 1, 2, 6, 7, 11]\n",
      "[-23, -5, -5, -5, -5, -4, -3, -3, -2, -1, -1, -1, 1, 1, 1, 1, 2, 2, 2, 4, 4, 4, 5, 6, 7, 7, 8, 8, 9, 11]\n"
     ]
    }
   ],
   "source": [
    "for a in arr:\n",
    "    print(a)"
   ]
  },
  {
   "cell_type": "code",
   "execution_count": null,
   "metadata": {},
   "outputs": [],
   "source": []
  }
 ],
 "metadata": {
  "kernelspec": {
   "display_name": "Python 3",
   "language": "python",
   "name": "python3"
  },
  "language_info": {
   "codemirror_mode": {
    "name": "ipython",
    "version": 3
   },
   "file_extension": ".py",
   "mimetype": "text/x-python",
   "name": "python",
   "nbconvert_exporter": "python",
   "pygments_lexer": "ipython3",
   "version": "3.8.3"
  }
 },
 "nbformat": 4,
 "nbformat_minor": 4
}
