{
 "cells": [
  {
   "cell_type": "markdown",
   "metadata": {},
   "source": [
    "# Binary Search Tree Assignment"
   ]
  },
  {
   "cell_type": "markdown",
   "metadata": {},
   "source": [
    "### Task"
   ]
  },
  {
   "cell_type": "markdown",
   "metadata": {},
   "source": [
    "Please take a look at the attached python code for simple BST implementation.   Try to make sense out of it.  Implement one additional function which will print the successor given some key.\n",
    "\n",
    "Optional challenge:  If you have time, you may want to implement a Delete node according to the pseudocode we study in the class."
   ]
  },
  {
   "cell_type": "code",
   "execution_count": 1,
   "metadata": {},
   "outputs": [],
   "source": [
    "class Node:\n",
    "    def __init__(self, val):\n",
    "        self.l = None\n",
    "        self.r = None\n",
    "        self.v = val\n",
    "        self.p = None\n",
    "\n",
    "class Tree:\n",
    "    def __init__(self):\n",
    "        self.root = None\n",
    "\n",
    "    def getRoot(self):\n",
    "        return self.root\n",
    "\n",
    "    def add(self, val):\n",
    "        if self.root is None:\n",
    "            self.root = Node(val)\n",
    "        else:\n",
    "            self._add(val, self.root)\n",
    "\n",
    "    def _add(self, val, node):\n",
    "        if val < node.v:\n",
    "            if node.l is not None:\n",
    "                self._add(val, node.l)\n",
    "            else:\n",
    "                node.l = Node(val)\n",
    "                node.l.p = node\n",
    "        else:\n",
    "            if node.r is not None:\n",
    "                self._add(val, node.r)\n",
    "            else:\n",
    "                node.r = Node(val)\n",
    "                node.r.p = node\n",
    "\n",
    "    def find(self, val):\n",
    "        if self.root is not None:\n",
    "            return self._find(val, self.root)\n",
    "        else:\n",
    "            return None\n",
    "\n",
    "    def _find(self, val, node):\n",
    "        if val == node.v:\n",
    "            return node\n",
    "        elif (val < node.v and node.l is not None):\n",
    "            return self._find(val, node.l)\n",
    "        elif (val > node.v and node.r is not None):\n",
    "            return self._find(val, node.r)\n",
    "\n",
    "    def deleteTree(self):\n",
    "        self.root = None\n",
    "\n",
    "    def printTree(self,):\n",
    "        if self.root is not None:\n",
    "            self._printTree(self.root)\n",
    "            self._printTreeByLevel(self.root)\n",
    "\n",
    "    def _printTree(self, node):\n",
    "        if node is not None:\n",
    "            self._printTree(node.l)\n",
    "            print(str(node.v) + ' ')\n",
    "            self._printTree(node.r)\n",
    "    \n",
    "    def _printTreeByLevel(self, node):\n",
    "        print(\" \")\n",
    "        print(\"Print by Level\")\n",
    "        container = [node]\n",
    "        current = 1\n",
    "        l = []\n",
    "        limit = 0\n",
    "        level = 0\n",
    "        \n",
    "        while (len(container) > 0):    \n",
    "            front = container[0]\n",
    "            l.append(front.v)\n",
    "            current -= 1\n",
    "            \n",
    "            if front.l is not None:\n",
    "                container.append(front.l)\n",
    "                limit +=1\n",
    "            if front.r is not None:\n",
    "                container.append(front.r)\n",
    "                limit +=1\n",
    "                \n",
    "            if current == 0:\n",
    "                current = limit\n",
    "                limit = 0\n",
    "                print(\"Level \" + str(level), end=\": \")\n",
    "                print(*l)\n",
    "                l = []\n",
    "                level += 1\n",
    "            container.pop(0)\n",
    "    \n",
    "    def tree_minimum(self, node):\n",
    "        while node.l != None:\n",
    "            node = node.l\n",
    "        return node\n",
    "    \n",
    "    def findSuccessor(self, val):\n",
    "        # Find node with the value equal to val \n",
    "        node = self._find(val, self.root)\n",
    "        \n",
    "        # Case 1: If node has right subtree \n",
    "        if node.r != None:\n",
    "            return self.tree_minimum(node.r).v\n",
    "        \n",
    "        # Case: if node doesn't has rigth subtree\n",
    "        parent = node.p\n",
    "        while parent is not None and node is parent.r:\n",
    "            node = parent\n",
    "            parent = parent.p    \n",
    "        return parent.v if parent is not None else None\n",
    "    \n",
    "    def transplate(self, u, v):\n",
    "        # Set u to be the root of the binary search tree if u is null value\n",
    "        if u.p is None:\n",
    "            self.root = v\n",
    "        # Checking if u is left child\n",
    "        elif u.p.l == u:\n",
    "            u.p.l = v\n",
    "        # Checking if u is right child\n",
    "        elif u.p.r == u:\n",
    "            u.p.r = v\n",
    "        # if v is not null value, set v's parent to be same as u's parent\n",
    "        if v is not None:\n",
    "            v.p = u.p\n",
    "    \n",
    "    def deleteNode(self, val):\n",
    "        # Find node with value equal to val \n",
    "        node = self._find(val, self.root)\n",
    "        \n",
    "        # Checking if node has only right child\n",
    "        if node.l is None:\n",
    "            self.transplate(node, node.r)\n",
    "         # Checking if node has only left child\n",
    "        elif node.r is None:\n",
    "            self.transplate(node, node.l)\n",
    "        # Find successor to node\n",
    "        else:\n",
    "            successor =self.tree_minimum(node.r)\n",
    "            if successor.p is not node:# If true, successor is not a direct child of node\n",
    "                self.transplate(successor, successor.r)\n",
    "                successor.r = node.r\n",
    "                successor.r.p = successor\n",
    "            self.transplate(node,successor)\n",
    "            successor.l = node.l\n",
    "            successor.l.p = successor\n",
    "            "
   ]
  },
  {
   "cell_type": "code",
   "execution_count": 2,
   "metadata": {},
   "outputs": [
    {
     "name": "stdout",
     "output_type": "stream",
     "text": [
      "0 \n",
      "2 \n",
      "3 \n",
      "4 \n",
      "8 \n",
      " \n",
      "Print by Level\n",
      "Level 0: 3\n",
      "Level 1: 0 4\n",
      "Level 2: 2 8\n",
      "3\n",
      "None\n"
     ]
    }
   ],
   "source": [
    "tree = Tree()\n",
    "tree.add(3)\n",
    "tree.add(4)\n",
    "tree.add(0)\n",
    "tree.add(8)\n",
    "tree.add(2)\n",
    "tree.printTree()\n",
    "print(tree.find(3).v)\n",
    "print(tree.find(10))\n",
    "tree.deleteTree()\n",
    "tree.printTree()"
   ]
  },
  {
   "cell_type": "markdown",
   "metadata": {},
   "source": [
    "## Example 1"
   ]
  },
  {
   "cell_type": "code",
   "execution_count": 3,
   "metadata": {},
   "outputs": [
    {
     "name": "stdout",
     "output_type": "stream",
     "text": [
      "0 \n",
      "2 \n",
      "3 \n",
      "4 \n",
      "8 \n",
      " \n",
      "Print by Level\n",
      "Level 0: 3\n",
      "Level 1: 0 4\n",
      "Level 2: 2 8\n"
     ]
    }
   ],
   "source": [
    "tree = Tree()\n",
    "tree.add(3)\n",
    "tree.add(4)\n",
    "tree.add(0)\n",
    "tree.add(8)\n",
    "tree.add(2)\n",
    "tree.printTree()"
   ]
  },
  {
   "cell_type": "markdown",
   "metadata": {},
   "source": [
    "#### Find Successor"
   ]
  },
  {
   "cell_type": "code",
   "execution_count": 4,
   "metadata": {},
   "outputs": [
    {
     "name": "stdout",
     "output_type": "stream",
     "text": [
      "3\n",
      "8\n",
      "None\n"
     ]
    }
   ],
   "source": [
    "print(tree.findSuccessor(2))\n",
    "print(tree.findSuccessor(4))\n",
    "print(tree.findSuccessor(8))"
   ]
  },
  {
   "cell_type": "markdown",
   "metadata": {},
   "source": [
    "#### Delete Node"
   ]
  },
  {
   "cell_type": "code",
   "execution_count": 5,
   "metadata": {},
   "outputs": [
    {
     "name": "stdout",
     "output_type": "stream",
     "text": [
      "0 \n",
      "3 \n",
      "4 \n",
      "8 \n",
      " \n",
      "Print by Level\n",
      "Level 0: 3\n",
      "Level 1: 0 4\n",
      "Level 2: 8\n"
     ]
    }
   ],
   "source": [
    "tree.deleteNode(2)\n",
    "tree.printTree()"
   ]
  },
  {
   "cell_type": "code",
   "execution_count": 6,
   "metadata": {},
   "outputs": [
    {
     "name": "stdout",
     "output_type": "stream",
     "text": [
      "0 \n",
      "4 \n",
      "8 \n",
      " \n",
      "Print by Level\n",
      "Level 0: 4\n",
      "Level 1: 0 8\n"
     ]
    }
   ],
   "source": [
    "tree.deleteNode(3)\n",
    "tree.printTree()"
   ]
  },
  {
   "cell_type": "markdown",
   "metadata": {},
   "source": [
    "## Example 2"
   ]
  },
  {
   "cell_type": "code",
   "execution_count": 7,
   "metadata": {},
   "outputs": [
    {
     "name": "stdout",
     "output_type": "stream",
     "text": [
      "5 \n",
      "20 \n",
      "28 \n",
      "37 \n",
      "41 \n",
      "43 \n",
      "50 \n",
      "71 \n",
      "97 \n",
      "100 \n",
      " \n",
      "Print by Level\n",
      "Level 0: 43\n",
      "Level 1: 20 71\n",
      "Level 2: 5 37 50 100\n",
      "Level 3: 28 41 97\n"
     ]
    }
   ],
   "source": [
    "tree = Tree()\n",
    "tree.add(43)\n",
    "tree.add(20)\n",
    "tree.add(71)\n",
    "tree.add(5)\n",
    "tree.add(37)\n",
    "tree.add(50)\n",
    "tree.add(100)\n",
    "tree.add(28)\n",
    "tree.add(41)\n",
    "tree.add(97)\n",
    "tree.printTree()"
   ]
  },
  {
   "cell_type": "markdown",
   "metadata": {},
   "source": [
    "#### Find Successor"
   ]
  },
  {
   "cell_type": "code",
   "execution_count": 8,
   "metadata": {},
   "outputs": [
    {
     "name": "stdout",
     "output_type": "stream",
     "text": [
      "28\n",
      "71\n",
      "97\n"
     ]
    }
   ],
   "source": [
    "print(tree.findSuccessor(20))\n",
    "print(tree.findSuccessor(50))\n",
    "print(tree.findSuccessor(71))"
   ]
  },
  {
   "cell_type": "markdown",
   "metadata": {},
   "source": [
    "#### Delete Node"
   ]
  },
  {
   "cell_type": "code",
   "execution_count": 9,
   "metadata": {},
   "outputs": [
    {
     "name": "stdout",
     "output_type": "stream",
     "text": [
      "5 \n",
      "20 \n",
      "28 \n",
      "37 \n",
      "41 \n",
      "50 \n",
      "71 \n",
      "97 \n",
      "100 \n",
      " \n",
      "Print by Level\n",
      "Level 0: 50\n",
      "Level 1: 20 71\n",
      "Level 2: 5 37 100\n",
      "Level 3: 28 41 97\n"
     ]
    }
   ],
   "source": [
    "tree.deleteNode(43)\n",
    "tree.printTree()"
   ]
  },
  {
   "cell_type": "code",
   "execution_count": 10,
   "metadata": {},
   "outputs": [
    {
     "name": "stdout",
     "output_type": "stream",
     "text": [
      "5 \n",
      "20 \n",
      "37 \n",
      "41 \n",
      "50 \n",
      "71 \n",
      "97 \n",
      "100 \n",
      " \n",
      "Print by Level\n",
      "Level 0: 50\n",
      "Level 1: 20 71\n",
      "Level 2: 5 37 100\n",
      "Level 3: 41 97\n"
     ]
    }
   ],
   "source": [
    "tree.deleteNode(28)\n",
    "tree.printTree()"
   ]
  },
  {
   "cell_type": "code",
   "execution_count": null,
   "metadata": {},
   "outputs": [],
   "source": []
  }
 ],
 "metadata": {
  "kernelspec": {
   "display_name": "Python 3",
   "language": "python",
   "name": "python3"
  },
  "language_info": {
   "codemirror_mode": {
    "name": "ipython",
    "version": 3
   },
   "file_extension": ".py",
   "mimetype": "text/x-python",
   "name": "python",
   "nbconvert_exporter": "python",
   "pygments_lexer": "ipython3",
   "version": "3.8.3"
  }
 },
 "nbformat": 4,
 "nbformat_minor": 4
}
