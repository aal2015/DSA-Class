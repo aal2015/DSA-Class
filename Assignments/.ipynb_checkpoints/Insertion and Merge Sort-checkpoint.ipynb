{
 "cells": [
  {
   "cell_type": "code",
   "execution_count": 1,
   "metadata": {},
   "outputs": [],
   "source": [
    "class SortingAlgo:\n",
    "    def __init__(self, arr):\n",
    "        #initializing array\n",
    "        self.arr = arr\n",
    "    def insertion_sort(self,):\n",
    "        # handling base case\n",
    "        if (len(self.arr) < 2):\n",
    "            return self.arr\n",
    "        \n",
    "        # setting pointer which will mark the sorted array to its left and unsorting to its right\n",
    "        current = 1\n",
    "        while (current < len(self.arr)):\n",
    "            # current element  of the pointer\n",
    "            element = self.arr[current]\n",
    "            \n",
    "            # setting index which will be compared with the element\n",
    "            index = current\n",
    "            \n",
    "            # if value at index is greater than the element, it will be shifted to right\n",
    "            while (index > 0 and arr[index - 1] > element):\n",
    "                self.arr[index] = self.arr[index - 1]\n",
    "                index -= 1\n",
    "            \n",
    "            # filling in the element after shifting is done\n",
    "            self.arr[index] = element\n",
    "            current +=1\n",
    "        \n",
    "        return self.arr\n",
    "    \n",
    "    def recursion_call(self,arr):\n",
    "        # handling base case\n",
    "        if (len(arr) ==  1): \n",
    "            return arr\n",
    "        \n",
    "        #splitting arr into left and right subarray\n",
    "        mid = int(len(arr) / 2)\n",
    "        left = self.recursion_call(arr[:mid])\n",
    "        right = self.recursion_call(arr[mid:])\n",
    "        \n",
    "        # merging back left and right subarray in increasing order \n",
    "        a,l,r = 0,0,0\n",
    "        while l < len(left) and r < len(right):\n",
    "            if (left[l] < right[r]):\n",
    "                arr[a] = left[l]\n",
    "                l += 1\n",
    "            else:\n",
    "                arr[a] = right[r]\n",
    "                r += 1\n",
    "            a += 1\n",
    "        \n",
    "        while l < len(left):\n",
    "            arr[a] = left[l]\n",
    "            l += 1\n",
    "            a += 1\n",
    "        while r < len(right):\n",
    "            arr[a] = right[r]\n",
    "            r += 1\n",
    "            a += 1\n",
    "        return arr\n",
    "    \n",
    "    def merg_sort(self,):\n",
    "        # handling base cases\n",
    "        if (len(self.arr) == 0): \n",
    "            return self.arr\n",
    "        return self.recursion_call(self.arr) \n",
    "        \n",
    "        \n",
    "        "
   ]
  },
  {
   "cell_type": "code",
   "execution_count": 2,
   "metadata": {},
   "outputs": [],
   "source": [
    "arr = [3,5,1,8,4]"
   ]
  },
  {
   "cell_type": "code",
   "execution_count": 3,
   "metadata": {},
   "outputs": [],
   "source": [
    "sortMethod = SortingAlgo(arr)"
   ]
  },
  {
   "cell_type": "code",
   "execution_count": 4,
   "metadata": {},
   "outputs": [
    {
     "data": {
      "text/plain": [
       "[1, 3, 4, 5, 8]"
      ]
     },
     "execution_count": 4,
     "metadata": {},
     "output_type": "execute_result"
    }
   ],
   "source": [
    "sortMethod.insertion_sort()"
   ]
  },
  {
   "cell_type": "code",
   "execution_count": 5,
   "metadata": {},
   "outputs": [
    {
     "data": {
      "text/plain": [
       "[1, 3, 4, 5, 8]"
      ]
     },
     "execution_count": 5,
     "metadata": {},
     "output_type": "execute_result"
    }
   ],
   "source": [
    "sortMethod.merg_sort()"
   ]
  },
  {
   "cell_type": "code",
   "execution_count": null,
   "metadata": {},
   "outputs": [],
   "source": []
  }
 ],
 "metadata": {
  "kernelspec": {
   "display_name": "Python 3",
   "language": "python",
   "name": "python3"
  },
  "language_info": {
   "codemirror_mode": {
    "name": "ipython",
    "version": 3
   },
   "file_extension": ".py",
   "mimetype": "text/x-python",
   "name": "python",
   "nbconvert_exporter": "python",
   "pygments_lexer": "ipython3",
   "version": "3.8.3"
  }
 },
 "nbformat": 4,
 "nbformat_minor": 4
}
