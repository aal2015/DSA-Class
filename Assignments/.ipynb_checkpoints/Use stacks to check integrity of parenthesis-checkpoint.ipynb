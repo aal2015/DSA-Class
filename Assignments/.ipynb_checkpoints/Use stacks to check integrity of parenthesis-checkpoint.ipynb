{
 "cells": [
  {
   "cell_type": "markdown",
   "metadata": {},
   "source": [
    "### Approach to Problem using Stack"
   ]
  },
  {
   "cell_type": "markdown",
   "metadata": {},
   "source": [
    "1) Define list for open and close brackets"
   ]
  },
  {
   "cell_type": "markdown",
   "metadata": {},
   "source": [
    "2) When open bracket is encountered, push it into the stack"
   ]
  },
  {
   "cell_type": "markdown",
   "metadata": {},
   "source": [
    "3) When closing bracket is encounterd, if it matches with the top element of the stack, pop the element otherwise return false"
   ]
  },
  {
   "cell_type": "markdown",
   "metadata": {},
   "source": [
    "4) Check if stack is empty. Return true if stack is empty otherwise false"
   ]
  },
  {
   "cell_type": "markdown",
   "metadata": {},
   "source": [
    "### Approach to Problem using Queue"
   ]
  },
  {
   "cell_type": "markdown",
   "metadata": {},
   "source": [
    "This approach is almost identical to the one using stack. In this case, two queues are used to act as a stack. It is to note that when closing bracket is matched with tail of the queue (we will call it queue1), it will be transferred to another queue (we will call it queue2) except the element matched with closing bracket. Then, the head and tail of queue1 will be set to original values which will set queue1 effectively to be empty and thus popping the tail element. The elements in queue2 will be transferred back into queue1 and the process goes on. Apart from this, everything is as the approach using stack  "
   ]
  },
  {
   "cell_type": "code",
   "execution_count": 1,
   "metadata": {},
   "outputs": [],
   "source": [
    "class Solution:\n",
    "    def checkIntegrityUsingStack(self, s):\n",
    "        # Initializing stack \n",
    "        stack = []\n",
    "        open_bracket = [\"(\", \"{\", \"[\"]\n",
    "        closed_backet = [\")\", \"}\", \"]\"]\n",
    "        top = -1\n",
    "        for bracket in s:\n",
    "            if bracket in open_bracket:\n",
    "                # Push bracket into stack\n",
    "                stack.append(bracket)\n",
    "                top += 1\n",
    "            elif bracket in closed_backet:\n",
    "                # Checking if stack is empty or not\n",
    "                if top < 0:\n",
    "                    return False\n",
    "                # Get top element of stack\n",
    "                top_element = stack[top]\n",
    "                if (top_element == \"(\" and bracket == \")\") or (top_element == \"{\" and bracket == \"}\") or (top_element ==\"[\"and bracket == \"]\"):\n",
    "                    # Remove top element in stack\n",
    "                    stack.pop()\n",
    "                    top -= 1\n",
    "                else:\n",
    "                    break\n",
    "        # Checking if stack is empty or not \n",
    "        if top >= 0:\n",
    "            return False\n",
    "        return True\n",
    "    \n",
    "    def checkIntegrityUsingQueue(self, s):\n",
    "        # Initializing queue\n",
    "        queue1 = [0] * len(s) \n",
    "        queue2 = [0] * len(s) \n",
    "        head1, head2 = 0, 0\n",
    "        tail1, tail2 = -1, -1\n",
    "        open_bracket = [\"(\", \"{\", \"[\"]\n",
    "        closed_backet = [\")\", \"}\", \"]\"]\n",
    "        \n",
    "        def enqueue(queue, tail, element):\n",
    "            tail += 1\n",
    "            queue[tail] = element\n",
    "            return queue, tail\n",
    "        \n",
    "        def dequeue(queue, head):\n",
    "            element = queue[head]\n",
    "            head += 1\n",
    "            return element, head\n",
    "        \n",
    "        for bracket in s:\n",
    "            if bracket in open_bracket:\n",
    "                # Enqueue bracket\n",
    "                queue1, tail1 = enqueue(queue1, tail1, bracket)\n",
    "            elif bracket in closed_backet:\n",
    "                # Checking if queue1 is empty or not\n",
    "                if tail1 < head1:\n",
    "                    return False\n",
    "                tail_element = queue1[tail1]\n",
    "                if (tail_element == \"(\" and bracket == \")\") or (tail_element == \"{\" and bracket == \"}\") or (tail_element ==\"[\"and bracket == \"]\"):\n",
    "                    # Transferring elements from queue1 to queue2 except the element to be removed\n",
    "                    while head1 < tail1:\n",
    "                        element, head1 = dequeue(queue1, head1)\n",
    "                        queue2, tail2 = enqueue(queue2, tail2, element)\n",
    "                    # Setting queue1 to empty state.  \n",
    "                    head1 = 0\n",
    "                    tail1 = -1\n",
    "                    \n",
    "                    # Transfering elements back from queue2 to queue1\n",
    "                    while head2 <= tail2:\n",
    "                        element, head2 = dequeue(queue2, head2)\n",
    "                        queue1, tail1 = enqueue(queue1, tail1, element)\n",
    "                    # Setting queu2 to empty state\n",
    "                    head2 = 0\n",
    "                    tail2 = -1\n",
    "                else:\n",
    "                    break\n",
    "            \n",
    "        # Checking if queue1 is empty or not\n",
    "        if tail1 >= head1:\n",
    "            return False\n",
    "        return True"
   ]
  },
  {
   "cell_type": "code",
   "execution_count": 2,
   "metadata": {},
   "outputs": [],
   "source": [
    "s = [\"()\", \"()[]{}\", \"(]\", \"([)]\", \"{[]}\",\"{[[]]{()}} \",\"{[[]]{()}}\"]"
   ]
  },
  {
   "cell_type": "code",
   "execution_count": 3,
   "metadata": {},
   "outputs": [],
   "source": [
    "parenthesisIntegrityCheck = Solution() "
   ]
  },
  {
   "cell_type": "markdown",
   "metadata": {},
   "source": [
    "### Stack"
   ]
  },
  {
   "cell_type": "code",
   "execution_count": 4,
   "metadata": {},
   "outputs": [
    {
     "name": "stdout",
     "output_type": "stream",
     "text": [
      "() True\n",
      "()[]{} True\n",
      "(] False\n",
      "([)] False\n",
      "{[]} True\n",
      "{[[]]{()}}  True\n",
      "{[[]]{()}} True\n"
     ]
    }
   ],
   "source": [
    "for parenthesis in s:\n",
    "    flag = parenthesisIntegrityCheck.checkIntegrityUsingStack(parenthesis)\n",
    "    print(parenthesis, flag)"
   ]
  },
  {
   "cell_type": "markdown",
   "metadata": {},
   "source": [
    "### Queue"
   ]
  },
  {
   "cell_type": "code",
   "execution_count": 5,
   "metadata": {},
   "outputs": [
    {
     "name": "stdout",
     "output_type": "stream",
     "text": [
      "() True\n",
      "()[]{} True\n",
      "(] False\n",
      "([)] False\n",
      "{[]} True\n",
      "{[[]]{()}}  True\n",
      "{[[]]{()}} True\n"
     ]
    }
   ],
   "source": [
    "for parenthesis in s:\n",
    "    flag = parenthesisIntegrityCheck.checkIntegrityUsingQueue(parenthesis)\n",
    "    print(parenthesis, flag)"
   ]
  }
 ],
 "metadata": {
  "kernelspec": {
   "display_name": "Python 3",
   "language": "python",
   "name": "python3"
  },
  "language_info": {
   "codemirror_mode": {
    "name": "ipython",
    "version": 3
   },
   "file_extension": ".py",
   "mimetype": "text/x-python",
   "name": "python",
   "nbconvert_exporter": "python",
   "pygments_lexer": "ipython3",
   "version": "3.8.3"
  }
 },
 "nbformat": 4,
 "nbformat_minor": 4
}
